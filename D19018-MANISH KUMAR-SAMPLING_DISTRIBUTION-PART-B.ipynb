{
 "cells": [
  {
   "cell_type": "markdown",
   "metadata": {},
   "source": [
    "# D19018"
   ]
  },
  {
   "cell_type": "markdown",
   "metadata": {},
   "source": [
    "# MANISH KUMAR"
   ]
  },
  {
   "cell_type": "markdown",
   "metadata": {},
   "source": [
    "## find confidence interval"
   ]
  },
  {
   "cell_type": "markdown",
   "metadata": {},
   "source": [
    "#### BOOTSTRAPING-RANDOM SAMPLING WITH DISTRIBUTION, This technique allows estimation of the sampling distribution of almost any statistic using random sampling methods."
   ]
  },
  {
   "cell_type": "markdown",
   "metadata": {},
   "source": [
    "#### CONFIDENCE INTERVAL-In statistics, a confidence interval (CI) is a type of interval estimate, computed from the statistics of the observed data, that might contain the true value of an unknown population parameter. "
   ]
  },
  {
   "cell_type": "code",
   "execution_count": null,
   "metadata": {},
   "outputs": [],
   "source": []
  },
  {
   "cell_type": "code",
   "execution_count": 1,
   "metadata": {},
   "outputs": [],
   "source": [
    "import pandas as pd\n",
    "import numpy as np\n",
    "import matplotlib.pyplot as plt\n",
    "import seaborn as sns\n",
    "import os\n",
    "os.chdir(\"C:\\\\Users\\\\MANDY\\\\Desktop\\\\dataset\")"
   ]
  },
  {
   "cell_type": "code",
   "execution_count": 2,
   "metadata": {},
   "outputs": [],
   "source": [
    "attrition=pd.read_csv(\"attrition2.csv\")"
   ]
  },
  {
   "cell_type": "code",
   "execution_count": 3,
   "metadata": {},
   "outputs": [
    {
     "data": {
      "text/plain": [
       "Index(['Age', 'Attrition', 'BusinessTravel', 'Department', 'EducationField',\n",
       "       'EnvironmentSatisfaction', 'Gender', 'JobInvolvement', 'JobLevel',\n",
       "       'JobSatisfaction', 'MaritalStatus', 'MonthlyIncome', 'OverTime',\n",
       "       'TotalWorkingYears', 'WorkLifeBalance', 'YearsAtCompany',\n",
       "       'YearsInCurrentRole', 'YearsSinceLastPromotion',\n",
       "       'YearsWithCurrManager'],\n",
       "      dtype='object')"
      ]
     },
     "execution_count": 3,
     "metadata": {},
     "output_type": "execute_result"
    }
   ],
   "source": [
    "##All columns of attrition dataset\n",
    "attrition.columns"
   ]
  },
  {
   "cell_type": "markdown",
   "metadata": {},
   "source": [
    "### distribution of monthlyincome this will be population of variable"
   ]
  },
  {
   "cell_type": "code",
   "execution_count": 6,
   "metadata": {},
   "outputs": [
    {
     "data": {
      "text/plain": [
       "<matplotlib.axes._subplots.AxesSubplot at 0x222d8d49710>"
      ]
     },
     "execution_count": 6,
     "metadata": {},
     "output_type": "execute_result"
    },
    {
     "data": {
      "image/png": "[encoded data removed]",
      "text/plain": [
       "<matplotlib.figure.Figure at 0x222d8d49080>"
      ]
     },
     "metadata": {},
     "output_type": "display_data"
    }
   ],
   "source": [
    "N=attrition['MonthlyIncome'].values             ##here  is populatoin\n",
    "sns.distplot(N,hist=True,color='red',kde=True)"
   ]
  },
  {
   "cell_type": "code",
   "execution_count": 7,
   "metadata": {},
   "outputs": [
    {
     "name": "stdout",
     "output_type": "stream",
     "text": [
      "6502.931292517007\n"
     ]
    }
   ],
   "source": [
    "population=N.mean()                      #store N varaible in another name\n",
    "print(population)"
   ]
  },
  {
   "cell_type": "code",
   "execution_count": 8,
   "metadata": {},
   "outputs": [
    {
     "data": {
      "text/plain": [
       "6090.94"
      ]
     },
     "execution_count": 8,
     "metadata": {},
     "output_type": "execute_result"
    }
   ],
   "source": [
    "S=attrition['MonthlyIncome'].sample(n=200)\n",
    "S.mean()"
   ]
  },
  {
   "cell_type": "code",
   "execution_count": null,
   "metadata": {},
   "outputs": [],
   "source": []
  },
  {
   "cell_type": "code",
   "execution_count": 9,
   "metadata": {},
   "outputs": [
    {
     "name": "stdout",
     "output_type": "stream",
     "text": [
      "4479.241182864722\n"
     ]
    }
   ],
   "source": [
    "#for standar deviation\n",
    "strd=S.std()\n",
    "print(strd)"
   ]
  },
  {
   "cell_type": "code",
   "execution_count": 10,
   "metadata": {},
   "outputs": [
    {
     "data": {
      "text/plain": [
       "14.142135623730951"
      ]
     },
     "execution_count": 10,
     "metadata": {},
     "output_type": "execute_result"
    }
   ],
   "source": [
    "n=200\n",
    "np.sqrt(n)"
   ]
  },
  {
   "cell_type": "code",
   "execution_count": 63,
   "metadata": {},
   "outputs": [
    {
     "name": "stdout",
     "output_type": "stream",
     "text": [
      "count of population mean 961\n",
      "6502.931292517007 lower limit for mean = 5851.5478246098455 upper limit for mean = 7111.622175390155\n"
     ]
    }
   ],
   "source": [
    "size=200\n",
    "count=0\n",
    "for xi in range(0,1000):                       ##sample=1000\n",
    "    S=attrition['MonthlyIncome'].sample(n=200)\n",
    "    l=S.mean()-(1.96*strd/np.sqrt(n))          ##l=lower limit of confidence interval\n",
    "    u=S.mean()+(1.96*strd/np.sqrt(n))          ##u=upper limit of confidence interval\n",
    "    if population < u and population > l:   ##condition to check is population lie between lower limit and upper limit. \n",
    "        count+=1\n",
    "print('count of population mean',count)\n",
    "# print(S,end=\",\")\n",
    "print(population,'lower limit for mean =',l,'upper limit for mean =',u)"
   ]
  },
  {
   "cell_type": "markdown",
   "metadata": {},
   "source": [
    "## Wide vs narrow confidence interval"
   ]
  },
  {
   "cell_type": "markdown",
   "metadata": {},
   "source": [
    "### confidence interval=90%"
   ]
  },
  {
   "cell_type": "code",
   "execution_count": null,
   "metadata": {},
   "outputs": [],
   "source": []
  },
  {
   "cell_type": "code",
   "execution_count": 66,
   "metadata": {},
   "outputs": [
    {
     "name": "stdout",
     "output_type": "stream",
     "text": [
      "count of population mean 910\n",
      "6502.931292517007\n"
     ]
    }
   ],
   "source": [
    "size=200\n",
    "count=0\n",
    "for xi in range(0,1000):                       ##sample=1000\n",
    "    S=attrition['MonthlyIncome'].sample(n=200)\n",
    "    l=S.mean()-(1.64*strd/np.sqrt(n))          ##l=lower limit of confidence interval\n",
    "    u=S.mean()+(1.64*strd/np.sqrt(n))          ##u=upper limit of confidence interval\n",
    "    if population < u and population > l:   ##condition to check is population lie between lower limit and upper limit. \n",
    "        count+=1\n",
    "print('count of population mean',count)\n",
    "# print(S,end=\",\")\n",
    "print(population)"
   ]
  },
  {
   "cell_type": "markdown",
   "metadata": {},
   "source": [
    "### confidence interval=99%"
   ]
  },
  {
   "cell_type": "code",
   "execution_count": 68,
   "metadata": {},
   "outputs": [
    {
     "name": "stdout",
     "output_type": "stream",
     "text": [
      "count of population mean 968\n",
      "6502.931292517007\n"
     ]
    }
   ],
   "source": [
    "size=200\n",
    "count=0\n",
    "for xi in range(0,1000):                       ##sample=1000\n",
    "    S=attrition['MonthlyIncome'].sample(n=200)\n",
    "    l=S.mean()-(2.04*strd/np.sqrt(n))          ##l=lower limit of confidence interval\n",
    "    u=S.mean()+(2.04*strd/np.sqrt(n))          ##u=upper limit of confidence interval\n",
    "    if population < u and population > l:   ##condition to check is population lie between lower limit and upper limit. \n",
    "        count+=1\n",
    "print('count of population mean',count)\n",
    "# print(S,end=\",\")\n",
    "print(population)"
   ]
  },
  {
   "cell_type": "markdown",
   "metadata": {},
   "source": [
    "#### condition = confidence interval => 90%  population = 901\n",
    "####                    confidence interval =>99%   population = 966\n",
    "#### conclusion = it shows that confidence interval 99% is more wider than 90%"
   ]
  },
  {
   "cell_type": "markdown",
   "metadata": {},
   "source": [
    " #### confidence interval=90% s1=200,s2=400"
   ]
  },
  {
   "cell_type": "code",
   "execution_count": 45,
   "metadata": {},
   "outputs": [
    {
     "data": {
      "text/plain": [
       "6335.34"
      ]
     },
     "execution_count": 45,
     "metadata": {},
     "output_type": "execute_result"
    }
   ],
   "source": [
    "S1=attrition['MonthlyIncome'].sample(n=200)\n",
    "S1.mean()"
   ]
  },
  {
   "cell_type": "code",
   "execution_count": 46,
   "metadata": {},
   "outputs": [
    {
     "name": "stdout",
     "output_type": "stream",
     "text": [
      "3939.8464009036657\n"
     ]
    }
   ],
   "source": [
    "#for standar deviation\n",
    "strd=S1.std()\n",
    "print(strd)"
   ]
  },
  {
   "cell_type": "code",
   "execution_count": 47,
   "metadata": {},
   "outputs": [
    {
     "data": {
      "text/plain": [
       "14.142135623730951"
      ]
     },
     "execution_count": 47,
     "metadata": {},
     "output_type": "execute_result"
    }
   ],
   "source": [
    "n=200\n",
    "np.sqrt(n)"
   ]
  },
  {
   "cell_type": "code",
   "execution_count": 48,
   "metadata": {},
   "outputs": [],
   "source": [
    "N=attrition['MonthlyIncome'].values             ##here  is populatoin"
   ]
  },
  {
   "cell_type": "code",
   "execution_count": 49,
   "metadata": {},
   "outputs": [
    {
     "name": "stdout",
     "output_type": "stream",
     "text": [
      "6502.931292517007\n"
     ]
    }
   ],
   "source": [
    "population=N.mean()                      #store N varaible in another name\n",
    "print(population)"
   ]
  },
  {
   "cell_type": "code",
   "execution_count": 50,
   "metadata": {},
   "outputs": [
    {
     "data": {
      "text/plain": [
       "6433.445"
      ]
     },
     "execution_count": 50,
     "metadata": {},
     "output_type": "execute_result"
    }
   ],
   "source": [
    "S1=attrition['MonthlyIncome'].sample(n=200)\n",
    "S1.mean()"
   ]
  },
  {
   "cell_type": "code",
   "execution_count": 51,
   "metadata": {},
   "outputs": [
    {
     "name": "stdout",
     "output_type": "stream",
     "text": [
      "4545.9546848775135\n"
     ]
    }
   ],
   "source": [
    "#for standar deviation\n",
    "strd=S1.std()\n",
    "print(strd)"
   ]
  },
  {
   "cell_type": "code",
   "execution_count": 52,
   "metadata": {},
   "outputs": [
    {
     "data": {
      "text/plain": [
       "14.142135623730951"
      ]
     },
     "execution_count": 52,
     "metadata": {},
     "output_type": "execute_result"
    }
   ],
   "source": [
    "n=200\n",
    "np.sqrt(n)"
   ]
  },
  {
   "cell_type": "markdown",
   "metadata": {},
   "source": [
    "### S1=200,confidence interval=90"
   ]
  },
  {
   "cell_type": "code",
   "execution_count": 59,
   "metadata": {},
   "outputs": [
    {
     "name": "stdout",
     "output_type": "stream",
     "text": [
      "population mean 903\n",
      "6502.931292517007 lower limit for mean = 5963.886036918443 upper limit for mean = 7018.233963081558\n"
     ]
    }
   ],
   "source": [
    "size=200\n",
    "count=0\n",
    "for xi in range(0,1000):                       ##sample=1000\n",
    "    S1=attrition['MonthlyIncome'].sample(n=200)\n",
    "    l=S1.mean()-(1.64*strd/np.sqrt(n))          ##l=lower limit of confidence interval\n",
    "    u=S1.mean()+(1.64*strd/np.sqrt(n))          ##u=upper limit of confidence interval\n",
    "    if population < u and population > l:   ##condition to check is population lie between lower limit and upper limit. \n",
    "        count+=1\n",
    "print('population mean count',count)\n",
    "# print(S,end=\",\")\n",
    "print(population,'lower limit for mean =',l,'upper limit for mean =',u)"
   ]
  },
  {
   "cell_type": "markdown",
   "metadata": {},
   "source": [
    "### S2=400,confidence interval=90"
   ]
  },
  {
   "cell_type": "code",
   "execution_count": 60,
   "metadata": {},
   "outputs": [
    {
     "name": "stdout",
     "output_type": "stream",
     "text": [
      "population mean 995\n",
      "6502.931292517007 lower limit for mean = 6218.486036918443 upper limit for mean = 7272.833963081557\n"
     ]
    }
   ],
   "source": [
    "size=400\n",
    "count=0\n",
    "for xi in range(0,1000):                       ##sample=1000\n",
    "    S2=attrition['MonthlyIncome'].sample(n=400)\n",
    "    l=S2.mean()-(1.64*strd/np.sqrt(n))          ##l=lower limit of confidence interval\n",
    "    u=S2.mean()+(1.64*strd/np.sqrt(n))          ##u=upper limit of confidence interval\n",
    "    if population < u and population > l:   ##condition to check is population lie between lower limit and upper limit. \n",
    "        count+=1\n",
    "print('population mean count',count)\n",
    "# print(S,end=\",\")\n",
    "print(population,'lower limit for mean =',l,'upper limit for mean =',u)"
   ]
  },
  {
   "cell_type": "markdown",
   "metadata": {},
   "source": [
    "### conclusion=>S1=200,confidence interval=90\n",
    "###           S2=400,confidence intervel=90"
   ]
  },
  {
   "cell_type": "markdown",
   "metadata": {},
   "source": [
    "#### comparasion"
   ]
  },
  {
   "cell_type": "markdown",
   "metadata": {},
   "source": [
    "#### for 200 sample,lower limit for mean = 5963.886036918443 upper limit for mean = 7018.233963081558\n",
    "#### for 400 sample, lower limit for mean = 6218.486036918443 upper limit for mean = 7272.833963081557"
   ]
  }
 ],
 "metadata": {
  "kernelspec": {
   "display_name": "Python 3",
   "language": "python",
   "name": "python3"
  },
  "language_info": {
   "codemirror_mode": {
    "name": "ipython",
    "version": 3
   },
   "file_extension": ".py",
   "mimetype": "text/x-python",
   "name": "python",
   "nbconvert_exporter": "python",
   "pygments_lexer": "ipython3",
   "version": "3.6.4"
  }
 },
 "nbformat": 4,
 "nbformat_minor": 2
}
